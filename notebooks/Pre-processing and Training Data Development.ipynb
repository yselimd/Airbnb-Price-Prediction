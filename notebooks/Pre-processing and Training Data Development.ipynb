{
 "cells": [
  {
   "cell_type": "code",
   "execution_count": 1,
   "metadata": {},
   "outputs": [],
   "source": [
    "# importing the necessary packages\n",
    "import pandas as pd\n",
    "import numpy as np\n",
    "import matplotlib.pyplot as plt\n",
    "import seaborn as sns\n",
    "import os\n",
    "from datetime import datetime as dt"
   ]
  },
  {
   "cell_type": "code",
   "execution_count": 2,
   "metadata": {},
   "outputs": [
    {
     "name": "stdout",
     "output_type": "stream",
     "text": [
      "<class 'pandas.core.frame.DataFrame'>\n",
      "RangeIndex: 6883 entries, 0 to 6882\n",
      "Data columns (total 10 columns):\n",
      " #   Column                  Non-Null Count  Dtype \n",
      "---  ------                  --------------  ----- \n",
      " 0   id                      6883 non-null   object\n",
      " 1   host_id                 6883 non-null   object\n",
      " 2   host_response_time      5021 non-null   object\n",
      " 3   host_verifications      6883 non-null   object\n",
      " 4   neighbourhood           4938 non-null   object\n",
      " 5   neighbourhood_cleansed  6883 non-null   object\n",
      " 6   property_type           6883 non-null   object\n",
      " 7   room_type               6883 non-null   object\n",
      " 8   amenities               6883 non-null   object\n",
      " 9   license                 3878 non-null   object\n",
      "dtypes: object(10)\n",
      "memory usage: 537.9+ KB\n"
     ]
    }
   ],
   "source": [
    "# loading the data frame and converting attiributes to object type or datetime.\n",
    "listings = pd.read_csv('../data/listings_clean.csv')\n",
    "# converting data type to datetime.\n",
    "listings[['host_since', 'calendar_last_scraped','first_review','last_review']] = listings[['host_since', 'calendar_last_scraped','first_review','last_review']].apply(pd.to_datetime)\n",
    "# changing data type of is,host_id columns to object\n",
    "listings[['id','host_id']] = listings[['id','host_id']].astype('object')\n",
    "listings.select_dtypes('object').info()"
   ]
  },
  {
   "cell_type": "markdown",
   "metadata": {},
   "source": [
    "**Summary:**\n",
    "\n",
    "There are 10 columns that are in object type. I will keep id and host_id columns as object type. I looked into the remaining columns and here what I will do for them:\n",
    "\n",
    "1. Did ordinal encoder for the host_response_time. \n",
    "2. Processed the host_verifications column and converted entries into a list and encoded using MultiLabelBinarizer.\n",
    "3. Dropped the neighbourhood column since it encodes for large cities/areas that would not provide detailed information.\n",
    "4. Renamed neighbourhood_cleansed column as neighbourhood and encoded using pd.get_dummies().\n",
    "5. Dropped the property_type column since it contains subgroups of room_type such as entire_home_bungalow etc. \n",
    "6. room_type was encoded using pd.get_dummies()\n",
    "7. Processed the amenities column and converted entries into a list and encoded using MultiLabelBinarizer. There are ~600 labels after this conversion. These entries as amenities could be reduced by combining them using string operations which involves a lot of manual labor. Instead of doing this, I decided to create a new feature by counting the number of features for each listing.\n",
    "8. Created a new feature from host_since column as years_as_host.\n",
    "9. Dropped host_listings_count, host_total_listings_count: Wrong information, confirmed by filtering based host_id. calculated_host_listings_count contains the correct value.\n",
    "10. Dropped licence, calendar_last_scraped columns, has_availability columns.\n",
    "    * licence: not sure if it is relevant information\n",
    "    * calendar_last_scraped: not sure if it is relevant information\n",
    "    * has_availability: it is 1,0 depending on the availability at the day of scraping.\n",
    "11. Converted first_review and last_review into months. They are both date_time objects and I converted into new columns as first_review_since_months and last_review_since_months.\n",
    "12. Dropped minimum_minimum_nights, maximum_minimum_nights, minimum_maximum_nights, maximum_maximum_nights, minimum_nights_avg_ntm, maximum_nights_avg_ntm"
   ]
  },
  {
   "cell_type": "code",
   "execution_count": 3,
   "metadata": {},
   "outputs": [
    {
     "name": "stdout",
     "output_type": "stream",
     "text": [
      "<class 'pandas.core.frame.DataFrame'>\n",
      "RangeIndex: 6883 entries, 0 to 6882\n",
      "Data columns (total 57 columns):\n",
      " #   Column                                        Non-Null Count  Dtype         \n",
      "---  ------                                        --------------  -----         \n",
      " 0   id                                            6883 non-null   object        \n",
      " 1   host_id                                       6883 non-null   object        \n",
      " 2   host_since                                    6868 non-null   datetime64[ns]\n",
      " 3   host_response_time                            5021 non-null   object        \n",
      " 4   host_response_rate                            5021 non-null   float64       \n",
      " 5   host_acceptance_rate                          5517 non-null   float64       \n",
      " 6   host_is_superhost                             6868 non-null   float64       \n",
      " 7   host_listings_count                           6868 non-null   float64       \n",
      " 8   host_total_listings_count                     6868 non-null   float64       \n",
      " 9   host_verifications                            6883 non-null   object        \n",
      " 10  host_has_profile_pic                          6868 non-null   float64       \n",
      " 11  host_identity_verified                        6868 non-null   float64       \n",
      " 12  neighbourhood                                 4938 non-null   object        \n",
      " 13  neighbourhood_cleansed                        6883 non-null   object        \n",
      " 14  latitude                                      6883 non-null   float64       \n",
      " 15  longitude                                     6883 non-null   float64       \n",
      " 16  property_type                                 6883 non-null   object        \n",
      " 17  room_type                                     6883 non-null   object        \n",
      " 18  accommodates                                  6883 non-null   int64         \n",
      " 19  bathrooms                                     6878 non-null   float64       \n",
      " 20  bedrooms                                      6883 non-null   float64       \n",
      " 21  beds                                          6883 non-null   float64       \n",
      " 22  amenities                                     6883 non-null   object        \n",
      " 23  price                                         6883 non-null   float64       \n",
      " 24  minimum_nights                                6883 non-null   int64         \n",
      " 25  maximum_nights                                6883 non-null   int64         \n",
      " 26  minimum_minimum_nights                        6883 non-null   int64         \n",
      " 27  maximum_minimum_nights                        6883 non-null   int64         \n",
      " 28  minimum_maximum_nights                        6883 non-null   int64         \n",
      " 29  maximum_maximum_nights                        6883 non-null   int64         \n",
      " 30  minimum_nights_avg_ntm                        6883 non-null   float64       \n",
      " 31  maximum_nights_avg_ntm                        6883 non-null   float64       \n",
      " 32  has_availability                              6883 non-null   int64         \n",
      " 33  availability_30                               6883 non-null   int64         \n",
      " 34  availability_60                               6883 non-null   int64         \n",
      " 35  availability_90                               6883 non-null   int64         \n",
      " 36  availability_365                              6883 non-null   int64         \n",
      " 37  calendar_last_scraped                         6883 non-null   datetime64[ns]\n",
      " 38  number_of_reviews                             6883 non-null   int64         \n",
      " 39  number_of_reviews_ltm                         6883 non-null   int64         \n",
      " 40  number_of_reviews_l30d                        6883 non-null   int64         \n",
      " 41  first_review                                  5189 non-null   datetime64[ns]\n",
      " 42  last_review                                   5189 non-null   datetime64[ns]\n",
      " 43  review_scores_rating                          5148 non-null   float64       \n",
      " 44  review_scores_accuracy                        5125 non-null   float64       \n",
      " 45  review_scores_cleanliness                     5125 non-null   float64       \n",
      " 46  review_scores_checkin                         5124 non-null   float64       \n",
      " 47  review_scores_communication                   5126 non-null   float64       \n",
      " 48  review_scores_location                        5124 non-null   float64       \n",
      " 49  review_scores_value                           5124 non-null   float64       \n",
      " 50  license                                       3878 non-null   object        \n",
      " 51  instant_bookable                              6883 non-null   int64         \n",
      " 52  calculated_host_listings_count                6883 non-null   int64         \n",
      " 53  calculated_host_listings_count_entire_homes   6883 non-null   int64         \n",
      " 54  calculated_host_listings_count_private_rooms  6883 non-null   int64         \n",
      " 55  calculated_host_listings_count_shared_rooms   6883 non-null   int64         \n",
      " 56  reviews_per_month                             5189 non-null   float64       \n",
      "dtypes: datetime64[ns](4), float64(23), int64(20), object(10)\n",
      "memory usage: 3.0+ MB\n"
     ]
    }
   ],
   "source": [
    "listings.info()"
   ]
  },
  {
   "cell_type": "code",
   "execution_count": 4,
   "metadata": {},
   "outputs": [
    {
     "data": {
      "text/plain": [
       "array(['within an hour', 'within a few hours', nan, 'within a day',\n",
       "       'a few days or more'], dtype=object)"
      ]
     },
     "execution_count": 4,
     "metadata": {},
     "output_type": "execute_result"
    }
   ],
   "source": [
    "# checking the unique values in the host_response_time.\n",
    "listings.host_response_time.unique()"
   ]
  },
  {
   "cell_type": "markdown",
   "metadata": {},
   "source": [
    "* I can order these entries as:  \n",
    "within an hour < within a few hours < within a day < a few days or more\n",
    "\n",
    "* I will use ordinal encoder for this variable.\n"
   ]
  },
  {
   "cell_type": "code",
   "execution_count": 5,
   "metadata": {},
   "outputs": [],
   "source": [
    "response_time_dict = {'within an hour':1, 'within a few hours':2, 'within a day':3, 'a few days or more':4 }\n",
    "listings['host_response_time_ordinal'] = listings.host_response_time.map(response_time_dict)\n",
    "listings = listings.drop('host_response_time',axis=1)"
   ]
  },
  {
   "cell_type": "code",
   "execution_count": 6,
   "metadata": {},
   "outputs": [
    {
     "data": {
      "text/html": [
       "<div>\n",
       "<style scoped>\n",
       "    .dataframe tbody tr th:only-of-type {\n",
       "        vertical-align: middle;\n",
       "    }\n",
       "\n",
       "    .dataframe tbody tr th {\n",
       "        vertical-align: top;\n",
       "    }\n",
       "\n",
       "    .dataframe thead th {\n",
       "        text-align: right;\n",
       "    }\n",
       "</style>\n",
       "<table border=\"1\" class=\"dataframe\">\n",
       "  <thead>\n",
       "    <tr style=\"text-align: right;\">\n",
       "      <th></th>\n",
       "      <th>host_verifications</th>\n",
       "    </tr>\n",
       "  </thead>\n",
       "  <tbody>\n",
       "    <tr>\n",
       "      <th>0</th>\n",
       "      <td>['email', 'phone', 'facebook', 'reviews', 'kba']</td>\n",
       "    </tr>\n",
       "    <tr>\n",
       "      <th>1</th>\n",
       "      <td>['email', 'phone', 'reviews', 'kba', 'work_ema...</td>\n",
       "    </tr>\n",
       "    <tr>\n",
       "      <th>2</th>\n",
       "      <td>['email', 'phone', 'reviews', 'jumio', 'govern...</td>\n",
       "    </tr>\n",
       "    <tr>\n",
       "      <th>3</th>\n",
       "      <td>['email', 'phone', 'reviews', 'jumio', 'govern...</td>\n",
       "    </tr>\n",
       "    <tr>\n",
       "      <th>4</th>\n",
       "      <td>['email', 'phone', 'reviews', 'kba']</td>\n",
       "    </tr>\n",
       "  </tbody>\n",
       "</table>\n",
       "</div>"
      ],
      "text/plain": [
       "                                  host_verifications\n",
       "0   ['email', 'phone', 'facebook', 'reviews', 'kba']\n",
       "1  ['email', 'phone', 'reviews', 'kba', 'work_ema...\n",
       "2  ['email', 'phone', 'reviews', 'jumio', 'govern...\n",
       "3  ['email', 'phone', 'reviews', 'jumio', 'govern...\n",
       "4               ['email', 'phone', 'reviews', 'kba']"
      ]
     },
     "execution_count": 6,
     "metadata": {},
     "output_type": "execute_result"
    }
   ],
   "source": [
    "# let's check the host_verifications column.\n",
    "listings[['host_verifications']].head()"
   ]
  },
  {
   "cell_type": "markdown",
   "metadata": {},
   "source": [
    "Host verifications column contains a list of verification methods. First of all I need to check if each row contains a list or is it string. "
   ]
  },
  {
   "cell_type": "code",
   "execution_count": 7,
   "metadata": {},
   "outputs": [
    {
     "name": "stdout",
     "output_type": "stream",
     "text": [
      "<class 'str'>\n",
      "['email', 'phone', 'facebook', 'reviews', 'kba']\n"
     ]
    }
   ],
   "source": [
    "print(type(listings['host_verifications'][0]))\n",
    "print(listings['host_verifications'][0])"
   ]
  },
  {
   "cell_type": "markdown",
   "metadata": {},
   "source": [
    "I need to split each of these verification methods and create a list out of them. I will use comma as splitting criteria, but before that I need to get rid of all non-letter characters except comma."
   ]
  },
  {
   "cell_type": "code",
   "execution_count": 8,
   "metadata": {},
   "outputs": [
    {
     "name": "stderr",
     "output_type": "stream",
     "text": [
      "/Users/dagdasy/anaconda3/lib/python3.7/site-packages/ipykernel_launcher.py:2: FutureWarning: The default value of regex will change from True to False in a future version. In addition, single character regular expressions will*not* be treated as literal strings when regex=True.\n",
      "  \n"
     ]
    }
   ],
   "source": [
    "for l in ['[',']',' ',\"'\"]:\n",
    "    listings['host_verifications'] = listings.host_verifications.str.replace(l,'')\n",
    "listings['host_verifications'] = listings.host_verifications.str.split(',')"
   ]
  },
  {
   "cell_type": "code",
   "execution_count": 9,
   "metadata": {},
   "outputs": [
    {
     "name": "stdout",
     "output_type": "stream",
     "text": [
      "['email', 'phone', 'facebook', 'reviews', 'kba']\n",
      "<class 'list'>\n"
     ]
    }
   ],
   "source": [
    "# Confirming that unnecessary characters are removed and entries are converted to a list.\n",
    "print(listings['host_verifications'][0])\n",
    "print(type(listings['host_verifications'][0]))"
   ]
  },
  {
   "cell_type": "markdown",
   "metadata": {},
   "source": [
    "I will convert these into labels using MultiLabelBinarizer."
   ]
  },
  {
   "cell_type": "code",
   "execution_count": 10,
   "metadata": {},
   "outputs": [],
   "source": [
    "from sklearn.preprocessing import MultiLabelBinarizer\n",
    "\n",
    "mlb = MultiLabelBinarizer(sparse_output=True)\n",
    "\n",
    "listings = listings.join(\n",
    "            pd.DataFrame.sparse.from_spmatrix(\n",
    "                mlb.fit_transform(listings.pop('host_verifications')),\n",
    "                index=listings.index,\n",
    "                columns='host_ver_' + mlb.classes_))"
   ]
  },
  {
   "cell_type": "code",
   "execution_count": 11,
   "metadata": {},
   "outputs": [
    {
     "name": "stdout",
     "output_type": "stream",
     "text": [
      "<class 'pandas.core.frame.DataFrame'>\n",
      "RangeIndex: 6883 entries, 0 to 6882\n",
      "Data columns (total 73 columns):\n",
      " #   Column                                        Non-Null Count  Dtype           \n",
      "---  ------                                        --------------  -----           \n",
      " 0   id                                            6883 non-null   object          \n",
      " 1   host_id                                       6883 non-null   object          \n",
      " 2   host_since                                    6868 non-null   datetime64[ns]  \n",
      " 3   host_response_rate                            5021 non-null   float64         \n",
      " 4   host_acceptance_rate                          5517 non-null   float64         \n",
      " 5   host_is_superhost                             6868 non-null   float64         \n",
      " 6   host_listings_count                           6868 non-null   float64         \n",
      " 7   host_total_listings_count                     6868 non-null   float64         \n",
      " 8   host_has_profile_pic                          6868 non-null   float64         \n",
      " 9   host_identity_verified                        6868 non-null   float64         \n",
      " 10  neighbourhood                                 4938 non-null   object          \n",
      " 11  neighbourhood_cleansed                        6883 non-null   object          \n",
      " 12  latitude                                      6883 non-null   float64         \n",
      " 13  longitude                                     6883 non-null   float64         \n",
      " 14  property_type                                 6883 non-null   object          \n",
      " 15  room_type                                     6883 non-null   object          \n",
      " 16  accommodates                                  6883 non-null   int64           \n",
      " 17  bathrooms                                     6878 non-null   float64         \n",
      " 18  bedrooms                                      6883 non-null   float64         \n",
      " 19  beds                                          6883 non-null   float64         \n",
      " 20  amenities                                     6883 non-null   object          \n",
      " 21  price                                         6883 non-null   float64         \n",
      " 22  minimum_nights                                6883 non-null   int64           \n",
      " 23  maximum_nights                                6883 non-null   int64           \n",
      " 24  minimum_minimum_nights                        6883 non-null   int64           \n",
      " 25  maximum_minimum_nights                        6883 non-null   int64           \n",
      " 26  minimum_maximum_nights                        6883 non-null   int64           \n",
      " 27  maximum_maximum_nights                        6883 non-null   int64           \n",
      " 28  minimum_nights_avg_ntm                        6883 non-null   float64         \n",
      " 29  maximum_nights_avg_ntm                        6883 non-null   float64         \n",
      " 30  has_availability                              6883 non-null   int64           \n",
      " 31  availability_30                               6883 non-null   int64           \n",
      " 32  availability_60                               6883 non-null   int64           \n",
      " 33  availability_90                               6883 non-null   int64           \n",
      " 34  availability_365                              6883 non-null   int64           \n",
      " 35  calendar_last_scraped                         6883 non-null   datetime64[ns]  \n",
      " 36  number_of_reviews                             6883 non-null   int64           \n",
      " 37  number_of_reviews_ltm                         6883 non-null   int64           \n",
      " 38  number_of_reviews_l30d                        6883 non-null   int64           \n",
      " 39  first_review                                  5189 non-null   datetime64[ns]  \n",
      " 40  last_review                                   5189 non-null   datetime64[ns]  \n",
      " 41  review_scores_rating                          5148 non-null   float64         \n",
      " 42  review_scores_accuracy                        5125 non-null   float64         \n",
      " 43  review_scores_cleanliness                     5125 non-null   float64         \n",
      " 44  review_scores_checkin                         5124 non-null   float64         \n",
      " 45  review_scores_communication                   5126 non-null   float64         \n",
      " 46  review_scores_location                        5124 non-null   float64         \n",
      " 47  review_scores_value                           5124 non-null   float64         \n",
      " 48  license                                       3878 non-null   object          \n",
      " 49  instant_bookable                              6883 non-null   int64           \n",
      " 50  calculated_host_listings_count                6883 non-null   int64           \n",
      " 51  calculated_host_listings_count_entire_homes   6883 non-null   int64           \n",
      " 52  calculated_host_listings_count_private_rooms  6883 non-null   int64           \n",
      " 53  calculated_host_listings_count_shared_rooms   6883 non-null   int64           \n",
      " 54  reviews_per_month                             5189 non-null   float64         \n",
      " 55  host_response_time_ordinal                    5021 non-null   float64         \n",
      " 56  host_ver_None                                 6883 non-null   Sparse[int64, 0]\n",
      " 57  host_ver_email                                6883 non-null   Sparse[int64, 0]\n",
      " 58  host_ver_facebook                             6883 non-null   Sparse[int64, 0]\n",
      " 59  host_ver_google                               6883 non-null   Sparse[int64, 0]\n",
      " 60  host_ver_government_id                        6883 non-null   Sparse[int64, 0]\n",
      " 61  host_ver_identity_manual                      6883 non-null   Sparse[int64, 0]\n",
      " 62  host_ver_jumio                                6883 non-null   Sparse[int64, 0]\n",
      " 63  host_ver_kba                                  6883 non-null   Sparse[int64, 0]\n",
      " 64  host_ver_manual_offline                       6883 non-null   Sparse[int64, 0]\n",
      " 65  host_ver_manual_online                        6883 non-null   Sparse[int64, 0]\n",
      " 66  host_ver_offline_government_id                6883 non-null   Sparse[int64, 0]\n",
      " 67  host_ver_phone                                6883 non-null   Sparse[int64, 0]\n",
      " 68  host_ver_reviews                              6883 non-null   Sparse[int64, 0]\n",
      " 69  host_ver_selfie                               6883 non-null   Sparse[int64, 0]\n",
      " 70  host_ver_sent_id                              6883 non-null   Sparse[int64, 0]\n",
      " 71  host_ver_work_email                           6883 non-null   Sparse[int64, 0]\n",
      " 72  host_ver_zhima_selfie                         6883 non-null   Sparse[int64, 0]\n",
      "dtypes: Sparse[int64, 0](17), datetime64[ns](4), float64(24), int64(20), object(8)\n",
      "memory usage: 3.4+ MB\n"
     ]
    }
   ],
   "source": [
    "listings.info()"
   ]
  },
  {
   "cell_type": "code",
   "execution_count": 12,
   "metadata": {},
   "outputs": [
    {
     "data": {
      "text/plain": [
       "array(['San Francisco, California, United States', nan,\n",
       "       'San Francisco, Hayes Valley, California, United States',\n",
       "       'Noe Valley - San Francisco, California, United States',\n",
       "       'Daly City, California, United States',\n",
       "       'San Franscisco, California, United States',\n",
       "       'San Jose, California, United States',\n",
       "       'San Francisco , Ca, United States'], dtype=object)"
      ]
     },
     "execution_count": 12,
     "metadata": {},
     "output_type": "execute_result"
    }
   ],
   "source": [
    "# lets check the neighbourhood column\n",
    "listings.neighbourhood.unique()"
   ]
  },
  {
   "cell_type": "markdown",
   "metadata": {},
   "source": [
    "neighbourhood column is too broad. I will check the neighbourhood_cleansed column. If there is detailed information in it then I will drop the first and use the latter."
   ]
  },
  {
   "cell_type": "code",
   "execution_count": 13,
   "metadata": {},
   "outputs": [
    {
     "data": {
      "text/plain": [
       "array(['Western Addition', 'Bernal Heights', 'Haight Ashbury', 'Mission',\n",
       "       'Nob Hill', 'Downtown/Civic Center', 'Castro/Upper Market',\n",
       "       'Noe Valley', 'Twin Peaks', 'Potrero Hill', 'Outer Richmond',\n",
       "       'Glen Park', 'Ocean View', 'Pacific Heights', 'Financial District',\n",
       "       'Inner Sunset', 'Russian Hill', 'Outer Sunset', 'Marina',\n",
       "       'Inner Richmond', 'Excelsior', 'Seacliff', 'West of Twin Peaks',\n",
       "       'Bayview', 'North Beach', 'Presidio', 'Presidio Heights',\n",
       "       'Diamond Heights', 'Chinatown', 'Parkside', 'South of Market',\n",
       "       'Outer Mission', 'Lakeshore', 'Crocker Amazon', 'Golden Gate Park',\n",
       "       'Visitacion Valley'], dtype=object)"
      ]
     },
     "execution_count": 13,
     "metadata": {},
     "output_type": "execute_result"
    }
   ],
   "source": [
    "# lets check the neighbourhood_cleansed column\n",
    "listings.neighbourhood_cleansed.unique()"
   ]
  },
  {
   "cell_type": "code",
   "execution_count": 14,
   "metadata": {},
   "outputs": [],
   "source": [
    "#Dropping the neighbourhood column\n",
    "listings = listings.drop('neighbourhood',axis=1)"
   ]
  },
  {
   "cell_type": "markdown",
   "metadata": {},
   "source": [
    "neighbourhood_cleansed column has detailed information that could separate \"good\" neighbourhoods from the \"bad\" ones which could impact the pricing of the listings.\n",
    "I will use get_dummies to create the labels."
   ]
  },
  {
   "cell_type": "code",
   "execution_count": 15,
   "metadata": {},
   "outputs": [],
   "source": [
    "listings = pd.get_dummies(listings, prefix='neighbourhood', prefix_sep='_', dummy_na=False, columns=['neighbourhood_cleansed'], sparse=False, drop_first=False, dtype=None)"
   ]
  },
  {
   "cell_type": "code",
   "execution_count": 16,
   "metadata": {},
   "outputs": [
    {
     "data": {
      "text/plain": [
       "array(['Entire apartment', 'Private room in apartment',\n",
       "       'Entire condominium', 'Private room in condominium',\n",
       "       'Entire house', 'Private room in townhouse', 'Entire loft',\n",
       "       'Private room in house', 'Entire guest suite', 'Entire cottage',\n",
       "       'Private room in cottage', 'Shared room in hostel',\n",
       "       'Private room in hostel', 'Private room in guest suite',\n",
       "       'Entire guesthouse', 'Shared room in house', 'Entire bungalow',\n",
       "       'Entire townhouse', 'Shared room in apartment',\n",
       "       'Shared room in loft', 'Private room in bed and breakfast',\n",
       "       'Entire serviced apartment', 'Room in hotel',\n",
       "       'Room in boutique hotel', 'Shared room in bed and breakfast',\n",
       "       'Private room in loft', 'Room in serviced apartment',\n",
       "       'Private room in villa', 'Barn', 'Room in aparthotel',\n",
       "       'Entire floor', 'Private room in resort',\n",
       "       'Private room in serviced apartment', 'Private room in bungalow',\n",
       "       'Shared room in townhouse', 'Private room', 'Entire place',\n",
       "       'Castle', 'Entire resort', 'Room in hostel', 'Entire villa',\n",
       "       'Entire in-law', 'Shared room in condominium',\n",
       "       'Shared room in bungalow', 'Private room in treehouse',\n",
       "       'Shared room in villa', 'Tiny house', 'Private room in cabin',\n",
       "       'Entire cabin', 'Private room in earth house',\n",
       "       'Room in bed and breakfast', 'Private room in guesthouse',\n",
       "       'Shared room in boutique hotel', 'Private room in hut'],\n",
       "      dtype=object)"
      ]
     },
     "execution_count": 16,
     "metadata": {},
     "output_type": "execute_result"
    }
   ],
   "source": [
    "# let's check the property_type column.\n",
    "listings.property_type.unique()"
   ]
  },
  {
   "cell_type": "markdown",
   "metadata": {},
   "source": [
    "This looks like a subset of room_type column. I will drop this column completely and use room_type information for the model.\n"
   ]
  },
  {
   "cell_type": "code",
   "execution_count": 17,
   "metadata": {},
   "outputs": [
    {
     "data": {
      "text/plain": [
       "array(['Entire home/apt', 'Private room', 'Shared room', 'Hotel room'],\n",
       "      dtype=object)"
      ]
     },
     "execution_count": 17,
     "metadata": {},
     "output_type": "execute_result"
    }
   ],
   "source": [
    "# let's check the room_type column.\n",
    "listings.room_type.unique()"
   ]
  },
  {
   "cell_type": "code",
   "execution_count": 18,
   "metadata": {},
   "outputs": [],
   "source": [
    "# Encoding the labels using get_dummies()\n",
    "listings = pd.get_dummies(listings, prefix='room_type', prefix_sep='_', dummy_na=False, columns=['room_type'], sparse=False, drop_first=False, dtype=None)"
   ]
  },
  {
   "cell_type": "code",
   "execution_count": 19,
   "metadata": {},
   "outputs": [],
   "source": [
    "# Dropping the property_type column\n",
    "listings = listings.drop('property_type', axis=1)"
   ]
  },
  {
   "cell_type": "code",
   "execution_count": 20,
   "metadata": {},
   "outputs": [
    {
     "data": {
      "text/html": [
       "<div>\n",
       "<style scoped>\n",
       "    .dataframe tbody tr th:only-of-type {\n",
       "        vertical-align: middle;\n",
       "    }\n",
       "\n",
       "    .dataframe tbody tr th {\n",
       "        vertical-align: top;\n",
       "    }\n",
       "\n",
       "    .dataframe thead th {\n",
       "        text-align: right;\n",
       "    }\n",
       "</style>\n",
       "<table border=\"1\" class=\"dataframe\">\n",
       "  <thead>\n",
       "    <tr style=\"text-align: right;\">\n",
       "      <th></th>\n",
       "      <th>amenities</th>\n",
       "    </tr>\n",
       "  </thead>\n",
       "  <tbody>\n",
       "    <tr>\n",
       "      <th>0</th>\n",
       "      <td>[\"Hangers\", \"Essentials\", \"Oven\", \"Free street...</td>\n",
       "    </tr>\n",
       "    <tr>\n",
       "      <th>1</th>\n",
       "      <td>[\"Essentials\", \"Wifi\", \"Private entrance\", \"De...</td>\n",
       "    </tr>\n",
       "    <tr>\n",
       "      <th>2</th>\n",
       "      <td>[\"Lock on bedroom door\", \"Hot water\", \"Private...</td>\n",
       "    </tr>\n",
       "    <tr>\n",
       "      <th>3</th>\n",
       "      <td>[\"Lock on bedroom door\", \"Hot water\", \"Private...</td>\n",
       "    </tr>\n",
       "    <tr>\n",
       "      <th>4</th>\n",
       "      <td>[\"Free street parking\", \"Hair dryer\", \"Heating...</td>\n",
       "    </tr>\n",
       "  </tbody>\n",
       "</table>\n",
       "</div>"
      ],
      "text/plain": [
       "                                           amenities\n",
       "0  [\"Hangers\", \"Essentials\", \"Oven\", \"Free street...\n",
       "1  [\"Essentials\", \"Wifi\", \"Private entrance\", \"De...\n",
       "2  [\"Lock on bedroom door\", \"Hot water\", \"Private...\n",
       "3  [\"Lock on bedroom door\", \"Hot water\", \"Private...\n",
       "4  [\"Free street parking\", \"Hair dryer\", \"Heating..."
      ]
     },
     "execution_count": 20,
     "metadata": {},
     "output_type": "execute_result"
    }
   ],
   "source": [
    "# let's check the amenities column.\n",
    "listings[['amenities']].head()"
   ]
  },
  {
   "cell_type": "markdown",
   "metadata": {},
   "source": [
    "* I will repeat same procedure I used for host_verifications for the amenities column."
   ]
  },
  {
   "cell_type": "code",
   "execution_count": 21,
   "metadata": {},
   "outputs": [
    {
     "name": "stderr",
     "output_type": "stream",
     "text": [
      "/Users/dagdasy/anaconda3/lib/python3.7/site-packages/ipykernel_launcher.py:6: FutureWarning: The default value of regex will change from True to False in a future version. In addition, single character regular expressions will*not* be treated as literal strings when regex=True.\n",
      "  \n",
      "/Users/dagdasy/anaconda3/lib/python3.7/site-packages/ipykernel_launcher.py:6: SettingWithCopyWarning: \n",
      "A value is trying to be set on a copy of a slice from a DataFrame.\n",
      "Try using .loc[row_indexer,col_indexer] = value instead\n",
      "\n",
      "See the caveats in the documentation: https://pandas.pydata.org/pandas-docs/stable/user_guide/indexing.html#returning-a-view-versus-a-copy\n",
      "  \n",
      "/Users/dagdasy/anaconda3/lib/python3.7/site-packages/ipykernel_launcher.py:7: SettingWithCopyWarning: \n",
      "A value is trying to be set on a copy of a slice from a DataFrame.\n",
      "Try using .loc[row_indexer,col_indexer] = value instead\n",
      "\n",
      "See the caveats in the documentation: https://pandas.pydata.org/pandas-docs/stable/user_guide/indexing.html#returning-a-view-versus-a-copy\n",
      "  import sys\n"
     ]
    }
   ],
   "source": [
    "# Creating a new data frame using amenities column.\n",
    "# Removing the extra characters and converting the entries to a list\n",
    "df_amenities = listings[['amenities']]\n",
    "\n",
    "for l in ['[',']',' ','\"']:\n",
    "    df_amenities['amenities'] = df_amenities.amenities.str.replace(l,'')\n",
    "df_amenities['amenities'] = df_amenities.amenities.str.split(',')"
   ]
  },
  {
   "cell_type": "code",
   "execution_count": 22,
   "metadata": {},
   "outputs": [
    {
     "name": "stdout",
     "output_type": "stream",
     "text": [
      "['Hangers', 'Essentials', 'Oven', 'Freestreetparking', 'Coffeemaker', 'CableTV', 'Pack\\\\u2019nPlay/travelcrib', 'TV', 'Refrigerator', 'Dedicatedworkspace', 'Room-darkeningshades', 'Kitchen', 'Washer', 'Longtermstaysallowed', 'Heating', 'Microwave', 'Dryer', 'Keypad', 'Shampoo', 'Iron', 'Gardenorbackyard', 'Hotwater', 'Stove', 'Wifi', 'Firstaidkit', 'Carbonmonoxidealarm', 'Hairdryer', 'Dishesandsilverware', 'Smokealarm', 'Cookingbasics', 'Privateentrance']\n",
      "<class 'list'>\n"
     ]
    }
   ],
   "source": [
    "# Confirming that unnecessary characters are removed and entries are converted to a list.\n",
    "print(df_amenities['amenities'][0])\n",
    "print(type(df_amenities['amenities'][0]))"
   ]
  },
  {
   "cell_type": "code",
   "execution_count": 23,
   "metadata": {},
   "outputs": [],
   "source": [
    "mlb = MultiLabelBinarizer(sparse_output=True)\n",
    "\n",
    "df_amenities = df_amenities.join(\n",
    "            pd.DataFrame.sparse.from_spmatrix(\n",
    "                mlb.fit_transform(df_amenities.pop('amenities')),\n",
    "                index=df_amenities.index,\n",
    "                columns='amenities' + mlb.classes_))"
   ]
  },
  {
   "cell_type": "code",
   "execution_count": 24,
   "metadata": {},
   "outputs": [
    {
     "data": {
      "text/plain": [
       "(6883, 522)"
      ]
     },
     "execution_count": 24,
     "metadata": {},
     "output_type": "execute_result"
    }
   ],
   "source": [
    "#Checking how many labels are created:\n",
    "df_amenities.shape"
   ]
  },
  {
   "cell_type": "markdown",
   "metadata": {},
   "source": [
    "* There are 522 amenities. Are they really different or are they very same amenities but are being recognized as different due to slight changes in string"
   ]
  },
  {
   "cell_type": "code",
   "execution_count": 25,
   "metadata": {},
   "outputs": [
    {
     "data": {
      "text/plain": [
       "{'amenities',\n",
       " 'amenities120\\\\TVwithAmazonPrimeVideo',\n",
       " 'amenities1space',\n",
       " 'amenities28\\\\HDTVwithAmazonPrimeVideo',\n",
       " 'amenities32\\\\HDTVwithAmazonPrimeVideo',\n",
       " 'amenities32\\\\TV',\n",
       " 'amenities37\\\\HDTVwithNetflix',\n",
       " 'amenities3MinuteMiracleMoistconditioner',\n",
       " 'amenities40\\\\HDTVwithRoku',\n",
       " 'amenities40\\\\TV',\n",
       " 'amenities42\\\\HDTVwithAppleTV',\n",
       " 'amenities42\\\\HDTVwithChromecast',\n",
       " 'amenities42\\\\HDTVwithHBOMax',\n",
       " 'amenities42\\\\HDTVwithNetflix',\n",
       " 'amenities42\\\\HDTVwithpremiumcable',\n",
       " 'amenities43\\\\HDTV',\n",
       " 'amenities44\\\\HDTVwithAmazonPrimeVideo',\n",
       " 'amenities46\\\\HDTV',\n",
       " 'amenities46\\\\HDTVwithNetflix',\n",
       " 'amenities47\\\\HDTVwithNetflix',\n",
       " 'amenities49\\\\HDTVwithChromecast',\n",
       " 'amenities4burnersanddoubleovenelectroniccontrolstainlesssteelgasstove',\n",
       " 'amenities5-10yearsold',\n",
       " 'amenities50\\\\HDTV',\n",
       " 'amenities50\\\\HDTVwithNetflix',\n",
       " 'amenities50\\\\HDTVwithRoku',\n",
       " 'amenities52\\\\HDTVwithstandardcable',\n",
       " 'amenities55\\\\HDTV',\n",
       " 'amenities55\\\\HDTVwithAmazonPrimeVideo',\n",
       " 'amenities55\\\\HDTVwithChromecast',\n",
       " 'amenities55\\\\HDTVwithNetflix',\n",
       " 'amenities55\\\\HDTVwithRoku',\n",
       " 'amenities65\\\\HDTV',\n",
       " 'amenities65\\\\HDTVwithAmazonPrimeVideo',\n",
       " 'amenities65\\\\HDTVwithChromecast',\n",
       " 'amenities65\\\\HDTVwithNetflix',\n",
       " 'amenities7cu.ft.topfreezerrefrigerator',\n",
       " 'amenitiesAesopbodysoap',\n",
       " 'amenitiesAesopconditioner',\n",
       " 'amenitiesAesopshampoo',\n",
       " 'amenitiesAirconditioning',\n",
       " 'amenitiesAlarmsystem',\n",
       " 'amenitiesAlbaconditioner',\n",
       " 'amenitiesAlbashampoo',\n",
       " 'amenitiesAmazonEchoPlussoundsystemwithBluetoothandaux',\n",
       " 'amenitiesAmazonPrimeVideo',\n",
       " 'amenitiesAppleBluetoothsoundsystem',\n",
       " 'amenitiesAppleHomePod',\n",
       " 'amenitiesAppleTV',\n",
       " 'amenitiesApplesoundsystem',\n",
       " 'amenitiesAussieDeepConditioner',\n",
       " 'amenitiesAvantistainlesssteelgasstove',\n",
       " 'amenitiesAvantistainlesssteeloven',\n",
       " 'amenitiesAvedaconditioner',\n",
       " 'amenitiesAvedashampoo',\n",
       " 'amenitiesAvenobodysoap',\n",
       " 'amenitiesBBQgrill',\n",
       " 'amenitiesBabybath',\n",
       " 'amenitiesBabymonitor',\n",
       " 'amenitiesBabysafetygates',\n",
       " 'amenitiesBabysitterrecommendations',\n",
       " 'amenitiesBakingsheet',\n",
       " 'amenitiesBalcony',\n",
       " 'amenitiesBarbecueutensils',\n",
       " 'amenitiesBath&BodyWorksbodysoap',\n",
       " 'amenitiesBath&BodyWorksconditioner',\n",
       " 'amenitiesBath&BodyWorksshampoo',\n",
       " 'amenitiesBathroomessentials',\n",
       " 'amenitiesBathtub',\n",
       " 'amenitiesBeachessentials',\n",
       " 'amenitiesBeachfront',\n",
       " 'amenitiesBedlinens',\n",
       " 'amenitiesBedroomcomforts',\n",
       " 'amenitiesBergmanKellyconditioner',\n",
       " 'amenitiesBertazonistainlesssteelgasstove',\n",
       " 'amenitiesBertazonistainlesssteeloven',\n",
       " 'amenitiesBertazonnistainlesssteelgasstove',\n",
       " 'amenitiesBertazzonistainlesssteeloven',\n",
       " 'amenitiesBidet',\n",
       " 'amenitiesBikes',\n",
       " 'amenitiesBlack&DeckerToasterOvenoven',\n",
       " 'amenitiesBlendedwithLoofahandApricotSeed(Lemongrass&Tea)bodysoap',\n",
       " 'amenitiesBluetoothsoundsystem',\n",
       " 'amenitiesBluetoothspeakerBluetoothsoundsystem',\n",
       " 'amenitiesBoardgames',\n",
       " 'amenitiesBodysoap',\n",
       " 'amenitiesBodywashbodysoap',\n",
       " 'amenitiesBoschrefrigerator',\n",
       " 'amenitiesBoschstainlesssteelgasstove',\n",
       " 'amenitiesBoschstainlesssteeloven',\n",
       " 'amenitiesBoseBluetoothsoundsystem',\n",
       " 'amenitiesBosePortableSoundsystemBluetoothsoundsystem',\n",
       " 'amenitiesBosesoundsystem',\n",
       " 'amenitiesBreadmaker',\n",
       " 'amenitiesBreakfast',\n",
       " 'amenitiesBreakfastbar',\n",
       " 'amenitiesBuildingstaff',\n",
       " 'amenitiesCDplayer',\n",
       " 'amenitiesCableTV',\n",
       " 'amenitiesCarbonmonoxidealarm',\n",
       " 'amenitiesCeilingfan',\n",
       " 'amenitiesCentralairconditioning',\n",
       " 'amenitiesCentralheating',\n",
       " 'amenitiesChangingtable',\n",
       " 'amenitiesChildren\\\\u2019sbooksandtoys',\n",
       " 'amenitiesChildren\\\\u2019sbooksandtoysforages0-2yearsold',\n",
       " 'amenitiesChildren\\\\u2019sbooksandtoysforages0-2yearsoldand2-5yearsold',\n",
       " 'amenitiesChildren\\\\u2019sbooksandtoysforages2-5yearsold',\n",
       " 'amenitiesChildren\\\\u2019sbooksandtoysforages2-5yearsoldand5-10yearsold',\n",
       " 'amenitiesChildren\\\\u2019sdinnerware',\n",
       " 'amenitiesChromecast',\n",
       " 'amenitiesCleaningbeforecheckout',\n",
       " 'amenitiesCleaningproducts',\n",
       " 'amenitiesClothingstorage',\n",
       " 'amenitiesClothingstorage:closet',\n",
       " 'amenitiesClothingstorage:closetanddresser',\n",
       " 'amenitiesClothingstorage:closetandwalk-incloset',\n",
       " 'amenitiesClothingstorage:dresser',\n",
       " 'amenitiesClothingstorage:dresserandcloset',\n",
       " 'amenitiesClothingstorage:dresserandwalk-incloset',\n",
       " 'amenitiesClothingstorage:walk-incloset',\n",
       " 'amenitiesClothingstorage:walk-inclosetandcloset',\n",
       " 'amenitiesClothingstorage:walk-inclosetanddresser',\n",
       " 'amenitiesClothingstorage:wardrobeandcloset',\n",
       " 'amenitiesClothingstorage:wardrobeanddresser',\n",
       " 'amenitiesCoffeemaker',\n",
       " 'amenitiesConditioner',\n",
       " 'amenitiesCookingbasics',\n",
       " 'amenitiesCrib',\n",
       " 'amenitiesCuisinartCountertopDoubleBurnerstainlesssteelelectricstove',\n",
       " 'amenitiesCuisinartstainlesssteelelectricstove',\n",
       " 'amenitiesCuisinartstainlesssteeloven',\n",
       " 'amenitiesDVDplayersoundsystem',\n",
       " 'amenitiesDacorrefrigerator',\n",
       " 'amenitiesDaybed',\n",
       " 'amenitiesDedicatedworkspace',\n",
       " 'amenitiesDedicatedworkspace:desk',\n",
       " 'amenitiesDedicatedworkspace:deskandofficechair',\n",
       " 'amenitiesDedicatedworkspace:monitor',\n",
       " 'amenitiesDedicatedworkspace:officechair',\n",
       " 'amenitiesDedicatedworkspace:officechairanddesk',\n",
       " 'amenitiesDedicatedworkspace:officechairandtable',\n",
       " 'amenitiesDedicatedworkspace:table',\n",
       " 'amenitiesDenon',\n",
       " 'amenitiesDenonsoundsystemwithaux',\n",
       " 'amenitiesDesk',\n",
       " 'amenitiesDiningtable',\n",
       " 'amenitiesDishesandsilverware',\n",
       " 'amenitiesDishwasher',\n",
       " 'amenitiesDove(sensitiveskin)bodysoap',\n",
       " 'amenitiesDovebodysoap',\n",
       " 'amenitiesDovefragrancefreebodysoap',\n",
       " \"amenitiesDr.Bronner'sPureCastillebodysoap\",\n",
       " \"amenitiesDr.Bronner'sbodysoap\",\n",
       " 'amenitiesDracobodysoap',\n",
       " 'amenitiesDracoconditioner',\n",
       " 'amenitiesDrivewayparking',\n",
       " 'amenitiesDryer',\n",
       " 'amenitiesDryer\\\\u2013Inbuilding',\n",
       " 'amenitiesDryer\\\\u2013\\\\u00a0Inunit',\n",
       " 'amenitiesDryingrackforclothing',\n",
       " 'amenitiesDualvanity',\n",
       " 'amenitiesEOOrganicsconditioner',\n",
       " 'amenitiesEOOrganicsshampoo',\n",
       " 'amenitiesEObodysoap',\n",
       " 'amenitiesEOconditioner',\n",
       " 'amenitiesEVcharger',\n",
       " 'amenitiesElectricstove',\n",
       " 'amenitiesElevator',\n",
       " 'amenitiesEnrichedwithSheaButter',\n",
       " 'amenitiesEspressomachine',\n",
       " 'amenitiesEssentials',\n",
       " 'amenitiesEthernetconnection',\n",
       " 'amenitiesEveryonebodysoap',\n",
       " 'amenitiesExtrapillowsandblankets',\n",
       " 'amenitiesFireextinguisher',\n",
       " 'amenitiesFirepit',\n",
       " 'amenitiesFireplaceguards',\n",
       " 'amenitiesFirstaidkit',\n",
       " 'amenitiesFormaldiningarea',\n",
       " 'amenitiesFreecarportonpremises\\\\u20131space',\n",
       " 'amenitiesFreedrivewayparkingonpremises',\n",
       " 'amenitiesFreedrivewayparkingonpremises\\\\u20131space',\n",
       " 'amenitiesFreedrivewayparkingonpremises\\\\u20132spaces',\n",
       " 'amenitiesFreedrivewayparkingonpremises\\\\u20133spaces',\n",
       " 'amenitiesFreedrivewayparkingonpremises\\\\u20134spaces',\n",
       " 'amenitiesFreedryer\\\\u2013Inbuilding',\n",
       " 'amenitiesFreedryer\\\\u2013Inunit',\n",
       " 'amenitiesFreeparkinggarageonpremises',\n",
       " 'amenitiesFreeparkinggarageonpremises\\\\u20131space',\n",
       " 'amenitiesFreeparkingonpremises',\n",
       " 'amenitiesFreeparkingonpremises\\\\u20131space',\n",
       " 'amenitiesFreeresidentialgarageonpremises',\n",
       " 'amenitiesFreeresidentialgarageonpremises\\\\u20131space',\n",
       " 'amenitiesFreeresidentialgarageonpremises\\\\u20132spaces',\n",
       " 'amenitiesFreestreetparking',\n",
       " 'amenitiesFreewasher\\\\u2013Inbuilding',\n",
       " 'amenitiesFreewasher\\\\u2013Inunit',\n",
       " 'amenitiesFreezer',\n",
       " 'amenitiesFridgidairerefrigerator',\n",
       " 'amenitiesFrigidairegasstove',\n",
       " 'amenitiesFrigidaregasstove',\n",
       " 'amenitiesFullkitchen',\n",
       " 'amenitiesGECafestainlesssteelgasstove',\n",
       " 'amenitiesGECafestainlesssteeloven',\n",
       " 'amenitiesGEProfilerefrigerator',\n",
       " 'amenitiesGErefrigerator',\n",
       " 'amenitiesGEstainlesssteelinductionstove',\n",
       " 'amenitiesGEstainlesssteeloven',\n",
       " 'amenitiesGaggenauconvectionovenwallmountedoven',\n",
       " 'amenitiesGaggenaucooktopgasstove',\n",
       " 'amenitiesGameconsole',\n",
       " 'amenitiesGameconsole:PS3',\n",
       " 'amenitiesGardenorbackyard',\n",
       " 'amenitiesGarnierconditioner',\n",
       " 'amenitiesGasfireplace',\n",
       " 'amenitiesGasstove',\n",
       " 'amenitiesGilchrist&Soamesbodysoap',\n",
       " 'amenitiesGilchrist&Soamesshampoo',\n",
       " 'amenitiesGreenwichBayExfoliatingBodyWash',\n",
       " 'amenitiesGrownAlchemistbodysoap',\n",
       " 'amenitiesGrownAlchemistconditioner',\n",
       " 'amenitiesGrownAlchemistshampoo',\n",
       " 'amenitiesGym',\n",
       " 'amenitiesHBOMax',\n",
       " 'amenitiesHDTV',\n",
       " 'amenitiesHDTVwithAmazonPrimeVideo',\n",
       " 'amenitiesHDTVwithNetflix',\n",
       " 'amenitiesHDTVwithpremiumcable',\n",
       " 'amenitiesHDTVwithstandardcable',\n",
       " 'amenitiesHairdryer',\n",
       " 'amenitiesHangers',\n",
       " 'amenitiesHarmonKardon',\n",
       " 'amenitiesHarmonKardonsub',\n",
       " 'amenitiesHeating',\n",
       " 'amenitiesHeatingskilletstove',\n",
       " 'amenitiesHighchair',\n",
       " 'amenitiesHomePodsBluetoothsoundsystem',\n",
       " 'amenitiesHometheater',\n",
       " 'amenitiesHostgreetsyou',\n",
       " 'amenitiesHottub',\n",
       " 'amenitiesHotwater',\n",
       " 'amenitiesHotwaterkettle',\n",
       " 'amenitiesIndoorfireplace',\n",
       " 'amenitiesInductionCook-topinductionstove',\n",
       " 'amenitiesInductionHotPlateinductionstove',\n",
       " 'amenitiesInductionstove',\n",
       " 'amenitiesIron',\n",
       " 'amenitiesIroningboard',\n",
       " 'amenitiesJawbonesoundsystemwithBluetoothandaux',\n",
       " 'amenitiesJenn-Airrefrigerator',\n",
       " 'amenitiesJennairrefrigerator',\n",
       " 'amenitiesJettedtub',\n",
       " 'amenitiesKayak',\n",
       " 'amenitiesKenmoreelectricrange.oven',\n",
       " 'amenitiesKenmorerefrigerator',\n",
       " 'amenitiesKeurigcoffeemachine',\n",
       " 'amenitiesKeypad',\n",
       " 'amenitiesKirklandbodysoap',\n",
       " 'amenitiesKitchen',\n",
       " 'amenitiesKitchenette',\n",
       " 'amenitiesKlipschBluetoothsoundsystem',\n",
       " 'amenitiesLGSoundbarwithRecordPlayersoundsystemwithBluetoothandaux',\n",
       " 'amenitiesLGstainlesssteelelectricstove',\n",
       " 'amenitiesLGstainlesssteelgasstove',\n",
       " 'amenitiesLGstainlesssteeloven',\n",
       " 'amenitiesLakeaccess',\n",
       " 'amenitiesLaptop-friendlyworkspace',\n",
       " 'amenitiesLaundromatnearby',\n",
       " 'amenitiesLiebherrrefrigerator',\n",
       " 'amenitiesLittletoasterovenoven',\n",
       " 'amenitiesLockbox',\n",
       " 'amenitiesLockonbedroomdoor',\n",
       " 'amenitiesLongtermstaysallowed',\n",
       " 'amenitiesLoungearea',\n",
       " 'amenitiesLoveBeautyandPlanet(ecoconsciousbrand)bodysoap',\n",
       " 'amenitiesLoveBeautyandPlanet(ecoconsciousbrand)conditioner',\n",
       " 'amenitiesLoveBeautyandPlanet(ecoconsciousbrand)shampoo',\n",
       " 'amenitiesLuggagedropoffallowed',\n",
       " 'amenitiesMagicChefrefrigerator',\n",
       " 'amenitiesMarshall',\n",
       " 'amenitiesMassagetable',\n",
       " 'amenitiesMaytagrefrigerator',\n",
       " 'amenitiesMediaroom',\n",
       " 'amenitiesMicrowave',\n",
       " 'amenitiesMinifridge',\n",
       " 'amenitiesMiscbodysoap',\n",
       " 'amenitiesMiscconditioner',\n",
       " 'amenitiesMosquitonet',\n",
       " 'amenitiesNXTandYamahainwalltheatersystemsoundsystem',\n",
       " 'amenitiesNXTmonitorsandYamahainceilingspeakerswithSurroundsoundBluetoothsoundsystem',\n",
       " 'amenitiesNaturalbodysoap',\n",
       " 'amenitiesNaturalconditioner',\n",
       " 'amenitiesNaturalgasbarbeque',\n",
       " 'amenitiesNaturalshampoo',\n",
       " 'amenitiesNespressomachine',\n",
       " 'amenitiesNestthermometer',\n",
       " 'amenitiesNetflix',\n",
       " 'amenitiesNetrogenabodysoap&DialAntibacterialbodysoap',\n",
       " 'amenitiesNeutrogenabodysoap',\n",
       " 'amenitiesNiles',\n",
       " 'amenitiesNilesspeakers',\n",
       " 'amenitiesOffice',\n",
       " 'amenitiesOutdoordiningarea',\n",
       " 'amenitiesOutdoorfurniture',\n",
       " 'amenitiesOutdoorkitchen',\n",
       " 'amenitiesOutdoorshower',\n",
       " 'amenitiesOutletcovers',\n",
       " 'amenitiesOven',\n",
       " 'amenitiesPack\\\\u2019nPlay/travelcrib',\n",
       " 'amenitiesPaiddryer\\\\u2013Inbuilding',\n",
       " 'amenitiesPaidparkinggarageoffpremises',\n",
       " 'amenitiesPaidparkinggarageoffpremises\\\\u2013$28perday',\n",
       " 'amenitiesPaidparkinggarageoffpremises\\\\u2013$35perday',\n",
       " 'amenitiesPaidparkinggarageoffpremises\\\\u2013$36perday',\n",
       " 'amenitiesPaidparkinggarageoffpremises\\\\u2013$45perday',\n",
       " 'amenitiesPaidparkinggarageonpremises',\n",
       " 'amenitiesPaidparkinggarageonpremises\\\\u2013$25perday',\n",
       " 'amenitiesPaidparkinggarageonpremises\\\\u2013$8perday',\n",
       " 'amenitiesPaidparkinggarageonpremises\\\\u20131space',\n",
       " 'amenitiesPaidparkinglotoffpremises',\n",
       " 'amenitiesPaidparkinglotoffpremises\\\\u2013$250perday',\n",
       " 'amenitiesPaidparkingoffpremises',\n",
       " 'amenitiesPaidparkingonpremises',\n",
       " 'amenitiesPaidstreetparkingoffpremises',\n",
       " 'amenitiesPaidvaletparkingonpremises',\n",
       " 'amenitiesPaidwasher\\\\u2013Inbuilding',\n",
       " 'amenitiesPantene(2-1)shampoo',\n",
       " 'amenitiesPantene2-1conditioner',\n",
       " 'amenitiesPanteneconditioner',\n",
       " 'amenitiesPanteneshampoo',\n",
       " 'amenitiesParasound',\n",
       " 'amenitiesPatioorbalcony',\n",
       " 'amenitiesPertshampoo',\n",
       " 'amenitiesPetsallowed',\n",
       " 'amenitiesPiano',\n",
       " 'amenitiesPingpongtable',\n",
       " 'amenitiesPocketwifi',\n",
       " 'amenitiesPolkbuilt-inspeakerswithAirplaysoundsystem',\n",
       " 'amenitiesPool',\n",
       " 'amenitiesPooltable',\n",
       " 'amenitiesPortableStovestove',\n",
       " 'amenitiesPortableairconditioning',\n",
       " 'amenitiesPortablefans',\n",
       " 'amenitiesPortableheater',\n",
       " 'amenitiesPour-overcoffee',\n",
       " 'amenitiesPre-amp.Amp',\n",
       " 'amenitiesPrivateentrance',\n",
       " 'amenitiesPrivatefencedgardenorbackyard',\n",
       " 'amenitiesPrivategardenorbackyard',\n",
       " 'amenitiesPrivategyminbuilding',\n",
       " 'amenitiesPrivatehottub',\n",
       " 'amenitiesPrivatein-unitmini-fridge.refrigerator',\n",
       " 'amenitiesPrivatein-unitmini-fridgerefrigerator',\n",
       " 'amenitiesPrivatelivingroom',\n",
       " 'amenitiesPrivatesauna',\n",
       " 'amenitiesRadiantheating',\n",
       " 'amenitiesRecordplayer',\n",
       " 'amenitiesRefrigerator',\n",
       " 'amenitiesRicemaker',\n",
       " 'amenitiesRoku',\n",
       " 'amenitiesRoom-darkeningshades',\n",
       " \"amenitiesRudy'sBodySoap(AceHotelbrand)bodysoap\",\n",
       " \"amenitiesRudy'sConditioner(AceHotelbrand)conditioner\",\n",
       " \"amenitiesRudy'sShampoo(AceHotelbrand)shampoo\",\n",
       " \"amenitiesRudy's\\\\u00b7AceHotelbodysoap\",\n",
       " \"amenitiesRudy's\\\\u00b7AceHotelconditioner\",\n",
       " \"amenitiesRudy's\\\\u00b7AceHotelshampoo\",\n",
       " 'amenitiesSONOSBluetoothsoundsystem',\n",
       " 'amenitiesSONOSsoundsystem',\n",
       " 'amenitiesSab-medbodysoap',\n",
       " 'amenitiesSafe',\n",
       " 'amenitiesSamsungrefrigerator',\n",
       " 'amenitiesSamsungstainlesssteelgasstove',\n",
       " 'amenitiesSamsungstainlesssteeloven',\n",
       " 'amenitiesSauna',\n",
       " 'amenitiesSecuritycameras',\n",
       " 'amenitiesSelfcheck-in',\n",
       " 'amenitiesShaikaiconditioner',\n",
       " 'amenitiesShaikaishampoo',\n",
       " 'amenitiesShampoo',\n",
       " 'amenitiesSharedfencedgardenorbackyard',\n",
       " 'amenitiesSharedgardenorbackyard',\n",
       " 'amenitiesSharedgyminbuilding',\n",
       " 'amenitiesSharedhottub',\n",
       " 'amenitiesSharedsauna',\n",
       " 'amenitiesSharewithotherrefrigerator',\n",
       " 'amenitiesSheaLogixbodysoap',\n",
       " 'amenitiesSheaLogixconditioner',\n",
       " 'amenitiesSheaLogixshampoo',\n",
       " 'amenitiesShowerbathtubcombo',\n",
       " 'amenitiesShowergel',\n",
       " 'amenitiesSingleElectricBurnerelectricstove',\n",
       " 'amenitiesSingleElectricBurnergasstove',\n",
       " 'amenitiesSinglelevelhome',\n",
       " 'amenitiesSki-in/Ski-out',\n",
       " 'amenitiesSmartTV',\n",
       " 'amenitiesSmarthometechnology',\n",
       " 'amenitiesSmartlock',\n",
       " 'amenitiesSmokealarm',\n",
       " 'amenitiesSmokingallowed',\n",
       " 'amenitiesSonos+JBLin-ceilingspeakersin5roomssoundsystemwithBluetoothandaux',\n",
       " 'amenitiesSonos2speakersBluetoothsoundsystem',\n",
       " 'amenitiesSonosBluetoothsoundsystem',\n",
       " 'amenitiesSonossoundsystem',\n",
       " 'amenitiesSonossoundsystemwithBluetoothandaux',\n",
       " 'amenitiesSonyReceiverBozeSpeakerssoundsystemwithBluetoothandaux',\n",
       " 'amenitiesSoundsystem',\n",
       " 'amenitiesSoundsystemwithBluetoothandaux',\n",
       " 'amenitiesSoundsystemwithaux',\n",
       " 'amenitiesStainlessSteel\\\\u00b7Bertazzonistainlesssteelgasstove',\n",
       " 'amenitiesStainlessSteel\\\\u00b7Fisher&Paykelrefrigerator',\n",
       " 'amenitiesStainlesssteelelectricstove',\n",
       " 'amenitiesStainlesssteelgasstove',\n",
       " 'amenitiesStainlesssteelinductionstove',\n",
       " 'amenitiesStainlesssteeloven',\n",
       " 'amenitiesStainlesssteelstove',\n",
       " 'amenitiesStandalonebathtub',\n",
       " 'amenitiesStandalonerainshower',\n",
       " 'amenitiesStandalonesteamshower',\n",
       " 'amenitiesStove',\n",
       " 'amenitiesSuavebodysoap',\n",
       " 'amenitiesSuaveconditioner',\n",
       " 'amenitiesSubZerorefrigerator',\n",
       " 'amenitiesSuitableforevents',\n",
       " \"amenitiesSummer'sEveCleansingWash;DoveBodyWash;Costcobarsoapbodysoap\",\n",
       " 'amenitiesTV',\n",
       " 'amenitiesTVwithAmazonPrimeVideo',\n",
       " 'amenitiesTVwithChromecast',\n",
       " 'amenitiesTVwithHBOMax',\n",
       " 'amenitiesTVwithNetflix',\n",
       " 'amenitiesTVwithRoku',\n",
       " 'amenitiesTVwithstandardcable',\n",
       " 'amenitiesTablecornerguards',\n",
       " 'amenitiesTaotronicsBluetoothsoundsystem',\n",
       " 'amenitiesTechnicsreceiver/ampw/Paradigmspeakerssoundsystemwithaux',\n",
       " 'amenitiesTerrace',\n",
       " 'amenitiesThermadoroven',\n",
       " 'amenitiesThermadorrefrigerator',\n",
       " 'amenitiesThermadorstainlesssteelgasstove',\n",
       " 'amenitiesThermadorstainlesssteeloven',\n",
       " 'amenitiesThermidorgasstove',\n",
       " 'amenitiesToaster',\n",
       " 'amenitiesToasterOvenoven',\n",
       " 'amenitiesToasterovenstainlesssteeloven',\n",
       " 'amenitiesTrashcompactor',\n",
       " 'amenitiesUndercounterhalfsizefridgerefrigerator',\n",
       " 'amenitiesVeronastainlesssteelgasstove',\n",
       " 'amenitiesVeronastainlesssteeloven',\n",
       " 'amenitiesVickingrefrigerator',\n",
       " 'amenitiesVikingProfessionalrefrigerator',\n",
       " 'amenitiesVikingProfessionalstainlesssteelgasstove',\n",
       " 'amenitiesVikingProfessionalstainlesssteeloven',\n",
       " 'amenitiesVikingoven',\n",
       " 'amenitiesVikingstainlesssteelgasstove',\n",
       " 'amenitiesVikingstainlesssteeloven',\n",
       " 'amenitiesVintageoven',\n",
       " 'amenitiesVintagestove',\n",
       " 'amenitiesWalkincloset',\n",
       " 'amenitiesWasher',\n",
       " 'amenitiesWasher\\\\u2013\\\\u00a0Inbuilding',\n",
       " 'amenitiesWasher\\\\u2013\\\\u00a0Inunit',\n",
       " 'amenitiesWaterfront',\n",
       " 'amenitiesWetbar',\n",
       " 'amenitiesWhirlpoolelectric.electricstove',\n",
       " 'amenitiesWhirlpooloven',\n",
       " 'amenitiesWhirlpoolstainlesssteeloven',\n",
       " 'amenitiesWifi',\n",
       " 'amenitiesWifi\\\\u20131000Mbps',\n",
       " 'amenitiesWifi\\\\u2013100Mbps',\n",
       " 'amenitiesWifi\\\\u2013200Mbps',\n",
       " 'amenitiesWifi\\\\u201320Mbps',\n",
       " 'amenitiesWifi\\\\u2013240Mbps',\n",
       " 'amenitiesWifi\\\\u2013250Mbps',\n",
       " 'amenitiesWifi\\\\u2013270Mbps',\n",
       " 'amenitiesWifi\\\\u2013400Mbps',\n",
       " 'amenitiesWifi\\\\u2013500Mbps',\n",
       " 'amenitiesWifi\\\\u201350Mbps',\n",
       " 'amenitiesWifi\\\\u2013600Mbps',\n",
       " 'amenitiesWifi\\\\u2013700Mbps',\n",
       " 'amenitiesWifi\\\\u201390Mbps',\n",
       " 'amenitiesWindowACunit',\n",
       " 'amenitiesWindowguards',\n",
       " 'amenitiesWinecooler',\n",
       " 'amenitiesWineglasses',\n",
       " 'amenitiesWolfstainlesssteelgasstove',\n",
       " 'amenitiesWolfstainlesssteeloven',\n",
       " 'amenitiesWood-burningfireplace',\n",
       " 'amenitiesYamahaBluetoothsoundsystem',\n",
       " 'amenitiesand10+yearsold',\n",
       " 'amenitiesandcloset',\n",
       " 'amenitiesanddesk',\n",
       " 'amenitiesanddresser',\n",
       " 'amenitiesandofficechair',\n",
       " 'amenitiesandtable',\n",
       " 'amenitiesandwalk-incloset',\n",
       " 'amenitiesandwardrobe',\n",
       " 'amenitiesaudiophileequipmentsoundsystemwithBluetoothandaux',\n",
       " 'amenitiesbosesoundsystemwithBluetoothandaux',\n",
       " 'amenitiescloset',\n",
       " 'amenitiesconvetionovenoven',\n",
       " 'amenitiesdesk',\n",
       " 'amenitiesdontknowbrandbutitworksgreatoven',\n",
       " 'amenitiesdoubleburnerBlack&Deckerhotplateelectricstove',\n",
       " 'amenitiesdresser',\n",
       " 'amenitiesfullsizerefrigerator',\n",
       " 'amenitiesmiscorganicandartificialingredientfreebodysoap',\n",
       " 'amenitiesmonitor',\n",
       " 'amenitiesofficechair',\n",
       " 'amenitiespremiumcable',\n",
       " 'amenitiessingleusetubeonarrivalconditioner',\n",
       " 'amenitiessingleusetubeonarrivalshampoo',\n",
       " 'amenitiesstandardcable',\n",
       " 'amenitiesstovetopinductionstove',\n",
       " 'amenitiestable',\n",
       " 'amenitiesvikingstainlesssteelgasstove',\n",
       " 'amenitiesvikingstainlesssteeloven',\n",
       " \"amenitiesvintageO'KeefeandMerrittgasstove\",\n",
       " 'amenitieswalk-incloset',\n",
       " 'amenitieswardrobe',\n",
       " 'amenitieswithAvocado.ParabenFree',\n",
       " 'amenitieswithfreezerrefrigerator'}"
      ]
     },
     "execution_count": 25,
     "metadata": {},
     "output_type": "execute_result"
    }
   ],
   "source": [
    "set(df_amenities.columns)"
   ]
  },
  {
   "cell_type": "markdown",
   "metadata": {},
   "source": [
    "* There are number of column names that are very similar to each other. Hosts have entered HDTV with >30 different ways. 55' TV vs 65' TV or Netflix vs Amazon Prime video would not make a big difference in terms of choosing one listing over the other. So I do not think that they would have an impact on the pricing of the listing. It requires manual labor to combine these amenities into one. \n",
    "\n",
    "* Instead, I decided to create a new feature using amenities. I will use number of amenities per listing as a feature."
   ]
  },
  {
   "cell_type": "code",
   "execution_count": 26,
   "metadata": {},
   "outputs": [
    {
     "name": "stderr",
     "output_type": "stream",
     "text": [
      "/Users/dagdasy/anaconda3/lib/python3.7/site-packages/ipykernel_launcher.py:4: FutureWarning: The default value of regex will change from True to False in a future version. In addition, single character regular expressions will*not* be treated as literal strings when regex=True.\n",
      "  after removing the cwd from sys.path.\n"
     ]
    }
   ],
   "source": [
    "# Removing the extra characters and converting the entries to a list\n",
    "\n",
    "for l in ['[',']',' ','\"']:\n",
    "    listings['amenities'] = listings.amenities.str.replace(l,'')\n",
    "listings['amenities'] = listings.amenities.str.split(',')"
   ]
  },
  {
   "cell_type": "code",
   "execution_count": 27,
   "metadata": {},
   "outputs": [],
   "source": [
    "listings['num_of_amenities'] = listings['amenities'].apply(lambda x: len(x))"
   ]
  },
  {
   "cell_type": "code",
   "execution_count": 28,
   "metadata": {},
   "outputs": [
    {
     "data": {
      "text/plain": [
       "0    31\n",
       "1    16\n",
       "2    16\n",
       "3    15\n",
       "4    26\n",
       "Name: num_of_amenities, dtype: int64"
      ]
     },
     "execution_count": 28,
     "metadata": {},
     "output_type": "execute_result"
    }
   ],
   "source": [
    "listings['num_of_amenities'].head()"
   ]
  },
  {
   "cell_type": "code",
   "execution_count": 29,
   "metadata": {},
   "outputs": [
    {
     "data": {
      "image/png": "[encoded data removed]",
      "text/plain": [
       "<Figure size 432x288 with 1 Axes>"
      ]
     },
     "metadata": {
      "needs_background": "light"
     },
     "output_type": "display_data"
    }
   ],
   "source": [
    "# Checking the distribution of amenities per listing.\n",
    "listings['num_of_amenities'].hist();"
   ]
  },
  {
   "cell_type": "code",
   "execution_count": 30,
   "metadata": {},
   "outputs": [],
   "source": [
    "# Calculating how many years have passed as a host.\n",
    "listings['years_as_host'] = (pd.Timestamp.now() - listings['host_since']).dt.days/365.25\n",
    "#dropping the host_since column.\n",
    "listings = listings.drop('host_since', axis=1)"
   ]
  },
  {
   "cell_type": "code",
   "execution_count": 31,
   "metadata": {},
   "outputs": [
    {
     "data": {
      "text/html": [
       "<div>\n",
       "<style scoped>\n",
       "    .dataframe tbody tr th:only-of-type {\n",
       "        vertical-align: middle;\n",
       "    }\n",
       "\n",
       "    .dataframe tbody tr th {\n",
       "        vertical-align: top;\n",
       "    }\n",
       "\n",
       "    .dataframe thead th {\n",
       "        text-align: right;\n",
       "    }\n",
       "</style>\n",
       "<table border=\"1\" class=\"dataframe\">\n",
       "  <thead>\n",
       "    <tr style=\"text-align: right;\">\n",
       "      <th></th>\n",
       "      <th>id</th>\n",
       "      <th>host_id</th>\n",
       "      <th>host_listings_count</th>\n",
       "      <th>host_total_listings_count</th>\n",
       "      <th>calculated_host_listings_count</th>\n",
       "    </tr>\n",
       "  </thead>\n",
       "  <tbody>\n",
       "    <tr>\n",
       "      <th>4855</th>\n",
       "      <td>36508250</td>\n",
       "      <td>107434423</td>\n",
       "      <td>1401.0</td>\n",
       "      <td>1401.0</td>\n",
       "      <td>177</td>\n",
       "    </tr>\n",
       "    <tr>\n",
       "      <th>5411</th>\n",
       "      <td>39886447</td>\n",
       "      <td>107434423</td>\n",
       "      <td>1401.0</td>\n",
       "      <td>1401.0</td>\n",
       "      <td>177</td>\n",
       "    </tr>\n",
       "    <tr>\n",
       "      <th>5413</th>\n",
       "      <td>39886593</td>\n",
       "      <td>107434423</td>\n",
       "      <td>1401.0</td>\n",
       "      <td>1401.0</td>\n",
       "      <td>177</td>\n",
       "    </tr>\n",
       "    <tr>\n",
       "      <th>5418</th>\n",
       "      <td>39911005</td>\n",
       "      <td>107434423</td>\n",
       "      <td>1401.0</td>\n",
       "      <td>1401.0</td>\n",
       "      <td>177</td>\n",
       "    </tr>\n",
       "    <tr>\n",
       "      <th>6710</th>\n",
       "      <td>47325832</td>\n",
       "      <td>107434423</td>\n",
       "      <td>1401.0</td>\n",
       "      <td>1401.0</td>\n",
       "      <td>177</td>\n",
       "    </tr>\n",
       "    <tr>\n",
       "      <th>...</th>\n",
       "      <td>...</td>\n",
       "      <td>...</td>\n",
       "      <td>...</td>\n",
       "      <td>...</td>\n",
       "      <td>...</td>\n",
       "    </tr>\n",
       "    <tr>\n",
       "      <th>2792</th>\n",
       "      <td>21233544</td>\n",
       "      <td>1852503</td>\n",
       "      <td>1.0</td>\n",
       "      <td>1.0</td>\n",
       "      <td>1</td>\n",
       "    </tr>\n",
       "    <tr>\n",
       "      <th>2794</th>\n",
       "      <td>21242955</td>\n",
       "      <td>153547987</td>\n",
       "      <td>1.0</td>\n",
       "      <td>1.0</td>\n",
       "      <td>1</td>\n",
       "    </tr>\n",
       "    <tr>\n",
       "      <th>2795</th>\n",
       "      <td>21252479</td>\n",
       "      <td>8357805</td>\n",
       "      <td>1.0</td>\n",
       "      <td>1.0</td>\n",
       "      <td>1</td>\n",
       "    </tr>\n",
       "    <tr>\n",
       "      <th>2797</th>\n",
       "      <td>21267987</td>\n",
       "      <td>764782</td>\n",
       "      <td>1.0</td>\n",
       "      <td>1.0</td>\n",
       "      <td>1</td>\n",
       "    </tr>\n",
       "    <tr>\n",
       "      <th>6882</th>\n",
       "      <td>48382323</td>\n",
       "      <td>199349788</td>\n",
       "      <td>8.0</td>\n",
       "      <td>8.0</td>\n",
       "      <td>1</td>\n",
       "    </tr>\n",
       "  </tbody>\n",
       "</table>\n",
       "<p>6883 rows × 5 columns</p>\n",
       "</div>"
      ],
      "text/plain": [
       "            id    host_id  host_listings_count  host_total_listings_count  \\\n",
       "4855  36508250  107434423               1401.0                     1401.0   \n",
       "5411  39886447  107434423               1401.0                     1401.0   \n",
       "5413  39886593  107434423               1401.0                     1401.0   \n",
       "5418  39911005  107434423               1401.0                     1401.0   \n",
       "6710  47325832  107434423               1401.0                     1401.0   \n",
       "...        ...        ...                  ...                        ...   \n",
       "2792  21233544    1852503                  1.0                        1.0   \n",
       "2794  21242955  153547987                  1.0                        1.0   \n",
       "2795  21252479    8357805                  1.0                        1.0   \n",
       "2797  21267987     764782                  1.0                        1.0   \n",
       "6882  48382323  199349788                  8.0                        8.0   \n",
       "\n",
       "      calculated_host_listings_count  \n",
       "4855                             177  \n",
       "5411                             177  \n",
       "5413                             177  \n",
       "5418                             177  \n",
       "6710                             177  \n",
       "...                              ...  \n",
       "2792                               1  \n",
       "2794                               1  \n",
       "2795                               1  \n",
       "2797                               1  \n",
       "6882                               1  \n",
       "\n",
       "[6883 rows x 5 columns]"
      ]
     },
     "execution_count": 31,
     "metadata": {},
     "output_type": "execute_result"
    }
   ],
   "source": [
    "# getting a glance at 'id','host_id','host_listings_count','host_total_listings_count','calculated_host_listings_count' columns.\n",
    "listings[['id','host_id','host_listings_count','host_total_listings_count','calculated_host_listings_count']].sort_values('calculated_host_listings_count',ascending=False)"
   ]
  },
  {
   "cell_type": "markdown",
   "metadata": {},
   "source": [
    "Based on this the host with host_id = 107434423 has 177 listings. However, host_listing_counts and host_total_listings_count has different values. To check which column has correct information I will filter the data frame using the host_id and check the listings count."
   ]
  },
  {
   "cell_type": "code",
   "execution_count": 32,
   "metadata": {},
   "outputs": [
    {
     "name": "stdout",
     "output_type": "stream",
     "text": [
      "The host with host_id = 107434423 has  177  listings in total\n"
     ]
    }
   ],
   "source": [
    "# Filtering the data frame using host_id = 107434423\n",
    "rows, columns = listings.query('host_id == 107434423').shape\n",
    "print('The host with host_id = 107434423 has ', rows, ' listings in total')"
   ]
  },
  {
   "cell_type": "markdown",
   "metadata": {},
   "source": [
    "Based on this result I will drop the host_listing_counts and host_total_listings_count columns along with other columns I mentioned in the summary section above."
   ]
  },
  {
   "cell_type": "code",
   "execution_count": 33,
   "metadata": {},
   "outputs": [],
   "source": [
    "listings = listings.drop(['host_listings_count','host_total_listings_count','license','calendar_last_scraped','has_availability','minimum_minimum_nights', 'maximum_minimum_nights', 'minimum_maximum_nights', 'maximum_maximum_nights', 'minimum_nights_avg_ntm', 'maximum_nights_avg_ntm'], axis=1)"
   ]
  },
  {
   "cell_type": "markdown",
   "metadata": {},
   "source": [
    "Converted first_review and last_review into months. They are both date_time objects and I converted into new columns as first_review_since_months and last_review_since_months.\n",
    "\n"
   ]
  },
  {
   "cell_type": "code",
   "execution_count": 34,
   "metadata": {},
   "outputs": [],
   "source": [
    "# Calculating how many months have passed since first and last review entered.\n",
    "listings['first_review_since_in_months'] = (pd.Timestamp.now() - listings['first_review']).dt.days/30\n",
    "listings['last_review_since_in_months'] = (pd.Timestamp.now() - listings['last_review']).dt.days/30\n",
    "#dropping the first_review and last_review columns.\n",
    "listings = listings.drop(['first_review','last_review'], axis=1)"
   ]
  },
  {
   "cell_type": "code",
   "execution_count": 35,
   "metadata": {},
   "outputs": [
    {
     "name": "stdout",
     "output_type": "stream",
     "text": [
      "<class 'pandas.core.frame.DataFrame'>\n",
      "RangeIndex: 6883 entries, 0 to 6882\n",
      "Data columns (total 99 columns):\n",
      " #   Column                                        Non-Null Count  Dtype           \n",
      "---  ------                                        --------------  -----           \n",
      " 0   id                                            6883 non-null   object          \n",
      " 1   host_id                                       6883 non-null   object          \n",
      " 2   host_response_rate                            5021 non-null   float64         \n",
      " 3   host_acceptance_rate                          5517 non-null   float64         \n",
      " 4   host_is_superhost                             6868 non-null   float64         \n",
      " 5   host_has_profile_pic                          6868 non-null   float64         \n",
      " 6   host_identity_verified                        6868 non-null   float64         \n",
      " 7   latitude                                      6883 non-null   float64         \n",
      " 8   longitude                                     6883 non-null   float64         \n",
      " 9   accommodates                                  6883 non-null   int64           \n",
      " 10  bathrooms                                     6878 non-null   float64         \n",
      " 11  bedrooms                                      6883 non-null   float64         \n",
      " 12  beds                                          6883 non-null   float64         \n",
      " 13  amenities                                     6883 non-null   object          \n",
      " 14  price                                         6883 non-null   float64         \n",
      " 15  minimum_nights                                6883 non-null   int64           \n",
      " 16  maximum_nights                                6883 non-null   int64           \n",
      " 17  availability_30                               6883 non-null   int64           \n",
      " 18  availability_60                               6883 non-null   int64           \n",
      " 19  availability_90                               6883 non-null   int64           \n",
      " 20  availability_365                              6883 non-null   int64           \n",
      " 21  number_of_reviews                             6883 non-null   int64           \n",
      " 22  number_of_reviews_ltm                         6883 non-null   int64           \n",
      " 23  number_of_reviews_l30d                        6883 non-null   int64           \n",
      " 24  review_scores_rating                          5148 non-null   float64         \n",
      " 25  review_scores_accuracy                        5125 non-null   float64         \n",
      " 26  review_scores_cleanliness                     5125 non-null   float64         \n",
      " 27  review_scores_checkin                         5124 non-null   float64         \n",
      " 28  review_scores_communication                   5126 non-null   float64         \n",
      " 29  review_scores_location                        5124 non-null   float64         \n",
      " 30  review_scores_value                           5124 non-null   float64         \n",
      " 31  instant_bookable                              6883 non-null   int64           \n",
      " 32  calculated_host_listings_count                6883 non-null   int64           \n",
      " 33  calculated_host_listings_count_entire_homes   6883 non-null   int64           \n",
      " 34  calculated_host_listings_count_private_rooms  6883 non-null   int64           \n",
      " 35  calculated_host_listings_count_shared_rooms   6883 non-null   int64           \n",
      " 36  reviews_per_month                             5189 non-null   float64         \n",
      " 37  host_response_time_ordinal                    5021 non-null   float64         \n",
      " 38  host_ver_None                                 6883 non-null   Sparse[int64, 0]\n",
      " 39  host_ver_email                                6883 non-null   Sparse[int64, 0]\n",
      " 40  host_ver_facebook                             6883 non-null   Sparse[int64, 0]\n",
      " 41  host_ver_google                               6883 non-null   Sparse[int64, 0]\n",
      " 42  host_ver_government_id                        6883 non-null   Sparse[int64, 0]\n",
      " 43  host_ver_identity_manual                      6883 non-null   Sparse[int64, 0]\n",
      " 44  host_ver_jumio                                6883 non-null   Sparse[int64, 0]\n",
      " 45  host_ver_kba                                  6883 non-null   Sparse[int64, 0]\n",
      " 46  host_ver_manual_offline                       6883 non-null   Sparse[int64, 0]\n",
      " 47  host_ver_manual_online                        6883 non-null   Sparse[int64, 0]\n",
      " 48  host_ver_offline_government_id                6883 non-null   Sparse[int64, 0]\n",
      " 49  host_ver_phone                                6883 non-null   Sparse[int64, 0]\n",
      " 50  host_ver_reviews                              6883 non-null   Sparse[int64, 0]\n",
      " 51  host_ver_selfie                               6883 non-null   Sparse[int64, 0]\n",
      " 52  host_ver_sent_id                              6883 non-null   Sparse[int64, 0]\n",
      " 53  host_ver_work_email                           6883 non-null   Sparse[int64, 0]\n",
      " 54  host_ver_zhima_selfie                         6883 non-null   Sparse[int64, 0]\n",
      " 55  neighbourhood_Bayview                         6883 non-null   uint8           \n",
      " 56  neighbourhood_Bernal Heights                  6883 non-null   uint8           \n",
      " 57  neighbourhood_Castro/Upper Market             6883 non-null   uint8           \n",
      " 58  neighbourhood_Chinatown                       6883 non-null   uint8           \n",
      " 59  neighbourhood_Crocker Amazon                  6883 non-null   uint8           \n",
      " 60  neighbourhood_Diamond Heights                 6883 non-null   uint8           \n",
      " 61  neighbourhood_Downtown/Civic Center           6883 non-null   uint8           \n",
      " 62  neighbourhood_Excelsior                       6883 non-null   uint8           \n",
      " 63  neighbourhood_Financial District              6883 non-null   uint8           \n",
      " 64  neighbourhood_Glen Park                       6883 non-null   uint8           \n",
      " 65  neighbourhood_Golden Gate Park                6883 non-null   uint8           \n",
      " 66  neighbourhood_Haight Ashbury                  6883 non-null   uint8           \n",
      " 67  neighbourhood_Inner Richmond                  6883 non-null   uint8           \n",
      " 68  neighbourhood_Inner Sunset                    6883 non-null   uint8           \n",
      " 69  neighbourhood_Lakeshore                       6883 non-null   uint8           \n",
      " 70  neighbourhood_Marina                          6883 non-null   uint8           \n",
      " 71  neighbourhood_Mission                         6883 non-null   uint8           \n",
      " 72  neighbourhood_Nob Hill                        6883 non-null   uint8           \n",
      " 73  neighbourhood_Noe Valley                      6883 non-null   uint8           \n",
      " 74  neighbourhood_North Beach                     6883 non-null   uint8           \n",
      " 75  neighbourhood_Ocean View                      6883 non-null   uint8           \n",
      " 76  neighbourhood_Outer Mission                   6883 non-null   uint8           \n",
      " 77  neighbourhood_Outer Richmond                  6883 non-null   uint8           \n",
      " 78  neighbourhood_Outer Sunset                    6883 non-null   uint8           \n",
      " 79  neighbourhood_Pacific Heights                 6883 non-null   uint8           \n",
      " 80  neighbourhood_Parkside                        6883 non-null   uint8           \n",
      " 81  neighbourhood_Potrero Hill                    6883 non-null   uint8           \n",
      " 82  neighbourhood_Presidio                        6883 non-null   uint8           \n",
      " 83  neighbourhood_Presidio Heights                6883 non-null   uint8           \n",
      " 84  neighbourhood_Russian Hill                    6883 non-null   uint8           \n",
      " 85  neighbourhood_Seacliff                        6883 non-null   uint8           \n",
      " 86  neighbourhood_South of Market                 6883 non-null   uint8           \n",
      " 87  neighbourhood_Twin Peaks                      6883 non-null   uint8           \n",
      " 88  neighbourhood_Visitacion Valley               6883 non-null   uint8           \n",
      " 89  neighbourhood_West of Twin Peaks              6883 non-null   uint8           \n",
      " 90  neighbourhood_Western Addition                6883 non-null   uint8           \n",
      " 91  room_type_Entire home/apt                     6883 non-null   uint8           \n",
      " 92  room_type_Hotel room                          6883 non-null   uint8           \n",
      " 93  room_type_Private room                        6883 non-null   uint8           \n",
      " 94  room_type_Shared room                         6883 non-null   uint8           \n",
      " 95  num_of_amenities                              6883 non-null   int64           \n",
      " 96  years_as_host                                 6868 non-null   float64         \n",
      " 97  first_review_since_in_months                  5189 non-null   float64         \n",
      " 98  last_review_since_in_months                   5189 non-null   float64         \n",
      "dtypes: Sparse[int64, 0](17), float64(23), int64(16), object(3), uint8(40)\n",
      "memory usage: 2.9+ MB\n"
     ]
    }
   ],
   "source": [
    "listings.info()"
   ]
  },
  {
   "cell_type": "code",
   "execution_count": 36,
   "metadata": {},
   "outputs": [],
   "source": [
    "listings.to_csv(r'../data/listings_premodel.csv', index = False, header=True)"
   ]
  }
 ],
 "metadata": {
  "kernelspec": {
   "display_name": "Python 3",
   "language": "python",
   "name": "python3"
  },
  "language_info": {
   "codemirror_mode": {
    "name": "ipython",
    "version": 3
   },
   "file_extension": ".py",
   "mimetype": "text/x-python",
   "name": "python",
   "nbconvert_exporter": "python",
   "pygments_lexer": "ipython3",
   "version": "3.7.3"
  }
 },
 "nbformat": 4,
 "nbformat_minor": 4
}
