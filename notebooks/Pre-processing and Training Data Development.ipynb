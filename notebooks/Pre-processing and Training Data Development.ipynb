{
 "cells": [
  {
   "cell_type": "code",
   "execution_count": 1,
   "metadata": {},
   "outputs": [],
   "source": [
    "# importing the necessary packages\n",
    "import pandas as pd\n",
    "import numpy as np\n",
    "import matplotlib.pyplot as plt\n",
    "import seaborn as sns\n",
    "import os\n",
    "from datetime import datetime as dt"
   ]
  },
  {
   "cell_type": "code",
   "execution_count": 2,
   "metadata": {},
   "outputs": [
    {
     "name": "stdout",
     "output_type": "stream",
     "text": [
      "<class 'pandas.core.frame.DataFrame'>\n",
      "RangeIndex: 6882 entries, 0 to 6881\n",
      "Data columns (total 2 columns):\n",
      " #   Column         Non-Null Count  Dtype \n",
      "---  ------         --------------  ----- \n",
      " 0   neighbourhood  6882 non-null   object\n",
      " 1   property_type  6882 non-null   object\n",
      "dtypes: object(2)\n",
      "memory usage: 107.7+ KB\n"
     ]
    }
   ],
   "source": [
    "# loading the data frame and converting attiributes to object type or datetime.\n",
    "listings = pd.read_csv('../data/listings_clean.csv')\n",
    "# converting data type to datetime.\n",
    "listings.drop(['host_id','host_since'],axis=1,inplace=True)\n",
    "# changing data type of is,host_id columns to object\n",
    "listings.select_dtypes('object').info()"
   ]
  },
  {
   "cell_type": "markdown",
   "metadata": {},
   "source": [
    "**Summary:**\n",
    "\n",
    "There are 2 columns that are in object type. I will do dummy transformation for these columns. However, previously I have done following as preprocessing during data wrangling:\n",
    "\n",
    "1. Did ordinal encoder for the host_response_time. \n",
    "2. Processed the host_verifications column and did ordinal encoding.\n",
    "3. Dropped the neighbourhood column since it encodes for large cities/areas that would not provide detailed information.\n",
    "4. Renamed neighbourhood_cleansed column as neighbourhood and will do dummy transformation using pd.get_dummies().\n",
    "5. Dropped the property_type column since it contains subgroups of room_type such as entire_home_bungalow etc. Renamed room_type as property type and will use pd.get_dummies(). \n",
    "6. Amenities column was converted a list and in turn a set of all amenities in the data frame. Created new columns by encoding amenities for their presence in the listinf. Details are in data wrangling notebook.\n",
    "7. host_since column was converted to date time and created a new column as host_days_active by subtracting host_since from 2020_03_02. host_since column is dropped.\n",
    "8. Repeated same process for first_review and last_review columns. \n",
    "9. Replaced missing values with median value of the columns"
   ]
  },
  {
   "cell_type": "code",
   "execution_count": 3,
   "metadata": {},
   "outputs": [],
   "source": [
    "transformed_df = pd.get_dummies(listings)"
   ]
  },
  {
   "cell_type": "code",
   "execution_count": 4,
   "metadata": {},
   "outputs": [],
   "source": [
    "transformed_df.to_csv(r'../data/listings_premodel.csv', index = False, header=True)"
   ]
  }
 ],
 "metadata": {
  "kernelspec": {
   "display_name": "Python 3",
   "language": "python",
   "name": "python3"
  },
  "language_info": {
   "codemirror_mode": {
    "name": "ipython",
    "version": 3
   },
   "file_extension": ".py",
   "mimetype": "text/x-python",
   "name": "python",
   "nbconvert_exporter": "python",
   "pygments_lexer": "ipython3",
   "version": "3.7.3"
  }
 },
 "nbformat": 4,
 "nbformat_minor": 4
}
